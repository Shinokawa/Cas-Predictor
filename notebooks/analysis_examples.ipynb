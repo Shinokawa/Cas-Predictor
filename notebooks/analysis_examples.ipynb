{
 "cells": [
  {
   "cell_type": "markdown",
   "metadata": {},
   "source": [
    "# CRISPR-Cas Predictor Analysis Examples\n",
    "\n",
    "This notebook provides examples of how to analyze protein sequences and predict potential CRISPR-Cas proteins using the CRISPR-Cas Predictor project."
   ]
  },
  {
   "cell_type": "code",
   "execution_count": 1,
   "metadata": {},
   "outputs": [],
   "source": [
    "import os\n",
    "import sys\n",
    "import pandas as pd\n",
    "from src.protein_analyzer import ProteinAnalyzer\n",
    "from src.hmmer_search import HMMERSearch\n",
    "from src.cas_typing import CASTyping\n",
    "from src.utils.file_handling import read_fasta\n",
    "\n",
    "# Set the path to the data directory\n",
    "data_dir = '../data/example_sequences/'\n",
    "fasta_file = os.path.join(data_dir, 'test_proteins.fasta')\n",
    "\n",
    "# Read protein sequences from the FASTA file\n",
    "sequences = read_fasta(fasta_file)\n",
    "print(f\"Loaded {len(sequences)} sequences from {fasta_file}\")"
   ]
  },
  {
   "cell_type": "code",
   "execution_count": 2,
   "metadata": {},
   "outputs": [],
   "source": [
    "# Analyze the protein sequences\n",
    "analyzer = ProteinAnalyzer()\n",
    "filtered_sequences = analyzer.filter_sequences(sequences)\n",
    "print(f\"Filtered down to {len(filtered_sequences)} sequences after analysis.\")"
   ]
  },
  {
   "cell_type": "code",
   "execution_count": 3,
   "metadata": {},
   "outputs": [],
   "source": [
    "# Perform HMMER search on the filtered sequences\n",
    "hmmer_search = HMMERSearch()\n",
    "hmmer_results = hmmer_search.search(filtered_sequences)\n",
    "print(f\"Found {len(hmmer_results)} potential CRISPR-Cas proteins.\")"
   ]
  },
  {
   "cell_type": "code",
   "execution_count": 4,
   "metadata": {},
   "outputs": [],
   "source": [
    "# Classify the identified CRISPR-Cas proteins\n",
    "cas_typing = CASTyping()\n",
    "classification_results = cas_typing.classify(hmmer_results)\n",
    "classification_df = pd.DataFrame(classification_results)\n",
    "classification_df.head()"
   ]
  },
  {
   "cell_type": "markdown",
   "metadata": {},
   "source": [
    "## Visualization of Results\n",
    "\n",
    "In this section, we can visualize the classification results using appropriate plots."
   ]
  },
  {
   "cell_type": "code",
   "execution_count": 5,
   "metadata": {},
   "outputs": [],
   "source": [
    "# Example visualization (this will depend on the specific libraries used)\n",
    "# import matplotlib.pyplot as plt\n",
    "# plt.figure(figsize=(10, 6))\n",
    "# plt.bar(classification_df['class'], classification_df['count'])\n",
    "# plt.title('CRISPR-Cas Protein Classification')\n",
    "# plt.xlabel('Class')\n",
    "# plt.ylabel('Count')\n",
    "# plt.show()"
   ]
  }
 ],
 "metadata": {
  "kernelspec": {
   "display_name": "Python 3",
   "language": "python",
   "name": "python3"
  },
  "language_info": {
   "codemirror_mode": {
    "name": "ipython",
    "version": 3
   },
   "file_extension": ".py",
   "mimetype": "text/x-python",
   "name": "python",
   "nbconvert_exporter": "python",
   "pygments_lexer": "ipython3",
   "version": "3.8.5"
  }
 },
 "nbformat": 4,
 "nbformat_minor": 4
}